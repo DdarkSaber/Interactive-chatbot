{
 "cells": [
  {
   "cell_type": "code",
   "execution_count": 1,
   "metadata": {},
   "outputs": [],
   "source": [
    "import tensorflow as tf\n",
    "import pickle\n",
    "from tensorflow.keras import  preprocessing, utils\n",
    "from tensorflow.keras.models import Sequential\n",
    "import pandas as pd\n",
    "import numpy as np \n",
    "import keras\n",
    "tf.compat.v1.logging.set_verbosity(tf.compat.v1.logging.ERROR)\n",
    "# tf.logging.set_verbosity(tf.logging.ERROR)\n",
    "from sklearn.feature_extraction.text import TfidfVectorizer"
   ]
  },
  {
   "cell_type": "code",
   "execution_count": 2,
   "metadata": {},
   "outputs": [
    {
     "data": {
      "text/plain": [
       "{'sentimental': 0,\n",
       " 'afraid': 1,\n",
       " 'proud': 2,\n",
       " 'faithful': 3,\n",
       " 'joyful': 4,\n",
       " 'angry': 5,\n",
       " 'annoyed': 6,\n",
       " 'disgusted': 7,\n",
       " 'anticipating': 8,\n",
       " 'sad': 9,\n",
       " 'neutral': 10,\n",
       " 'surprised': 11}"
      ]
     },
     "execution_count": 2,
     "metadata": {},
     "output_type": "execute_result"
    }
   ],
   "source": [
    "category_names = ['sentimental' ,'afraid', 'proud', 'faithful', 'joyful', 'angry', 'annoyed', 'disgusted', 'anticipating','sad', 'neutral', 'surprised']\n",
    "index = {w:i for i, w in enumerate(category_names)}\n",
    "index"
   ]
  },
  {
   "cell_type": "code",
   "execution_count": 3,
   "metadata": {},
   "outputs": [],
   "source": [
    "def token(questions , answers, w):\n",
    "        oov = [0,0,0,0,0,0,0,-1,-1,-1,0,0]\n",
    "        tokenizer = preprocessing.text.Tokenizer(oov_token=1)\n",
    "        # tokenizer = preprocessing.text.Tokenizer(oov_token=1)\n",
    "        # tokenizer = get_tokenizer(w)\n",
    "        tokenizer.fit_on_texts( questions + answers )\n",
    "        VOCAB_SIZE = len( tokenizer.word_index ) + 1 + oov[index[w]]\n",
    "        # print( 'VOCAB SIZE : {}'.format( VOCAB_SIZE ))\n",
    "        tokenizer\n",
    "\n",
    "        vocab = []\n",
    "        for word in tokenizer.word_index:\n",
    "            vocab.append(word)\n",
    "        \n",
    "        maxlen_questions = int(np.ceil(np.mean([len(q) for q in questions])))\n",
    "        maxlen_answers = int(np.ceil(np.mean([len(a) for a in answers])))\n",
    "        \n",
    "        # print(maxlen_questions , maxlen_answers)\n",
    "        tokenized_questions = tokenizer.texts_to_sequences( questions  )\n",
    "        padded_questions = preprocessing.sequence.pad_sequences( tokenized_questions, maxlen = maxlen_questions, padding = 'post' ,truncating= 'post')\n",
    "        encoder_input_data = np.array(padded_questions)\n",
    "\n",
    "\n",
    "        tokenized_answers = tokenizer.texts_to_sequences( answers  )\n",
    "        padded_answers = np.array(preprocessing.sequence.pad_sequences( tokenized_answers , maxlen= maxlen_answers , padding='post',truncating= 'post' ))\n",
    "        decoder_input_data = np.array( padded_answers )\n",
    "\n",
    "\n",
    "        for i in range(len(tokenized_answers)) :\n",
    "            tokenized_answers[i] = tokenized_answers[i][1:]\n",
    "        padded_answers1 = preprocessing.sequence.pad_sequences( tokenized_answers , maxlen=maxlen_answers , padding='post',truncating= 'post'  )\n",
    "        # onehot_answers = utils.to_categorical( padded_answers1 , num_classes= VOCAB_SIZE ,dtype = 'float32' )\n",
    "        decoder_output_data = np.array( padded_answers1 )\n",
    "        return VOCAB_SIZE ,maxlen_questions, maxlen_answers,encoder_input_data ,decoder_input_data ,decoder_output_data ,tokenizer"
   ]
  },
  {
   "cell_type": "code",
   "execution_count": 4,
   "metadata": {},
   "outputs": [],
   "source": [
    "def MA(words, message):    \n",
    "    \n",
    "    with open ('processed_dataset/' + words + '.pickle' , 'rb+') as f: \n",
    "        questions ,answers =  pickle.load(f)\n",
    "    VOCAB_SIZE, maxlen_questions, maxlen_answers, encoder_input_data, decoder_input_data, decoder_output_data ,tokenizer= token(questions , answers, words)\n",
    "    # print(VOCAB_SIZE, maxlen_questions, maxlen_answers, encoder_input_data.shape, decoder_input_data.shape, decoder_output_data.shape)\n",
    "    def custom_loss_function(y_true, y_pred):\n",
    "        y1 = tf.numpy_function(utils.to_categorical , [y_true ,VOCAB_SIZE] , tf.float32) \n",
    "        cce = tf.keras.losses.CategoricalCrossentropy()\n",
    "    \n",
    "        loss = cce(y1, y_pred)\n",
    "    # del y1\n",
    "        return loss\n",
    "    # print(\"alpha\")\n",
    "    encoder_inputs = tf.keras.layers.Input(shape=( maxlen_questions , ))\n",
    "    encoder_embedding = tf.keras.layers.Embedding( VOCAB_SIZE, 200 , mask_zero=True ) (encoder_inputs)\n",
    "    encoder_outputs , state_h , state_c = tf.keras.layers.LSTM( 200 , return_state=True )( encoder_embedding )\n",
    "    encoder_states = [ state_h , state_c ]\n",
    "\n",
    "    decoder_inputs = tf.keras.layers.Input(shape=( maxlen_answers ,  ))\n",
    "    decoder_embedding = tf.keras.layers.Embedding( VOCAB_SIZE, 200 , mask_zero=True) (decoder_inputs)\n",
    "    decoder_lstm = tf.keras.layers.LSTM( 200 , return_state=True , return_sequences=True )\n",
    "    decoder_outputs , _ , _ = decoder_lstm ( decoder_embedding , initial_state=encoder_states )\n",
    "    decoder_dense = tf.keras.layers.Dense( VOCAB_SIZE , activation=tf.keras.activations.softmax ) \n",
    "    output = decoder_dense ( decoder_outputs )\n",
    "    model3 = tf.keras.models.Model([encoder_inputs, decoder_inputs], output )\n",
    "    model3.compile(optimizer=tf.keras.optimizers.RMSprop(), loss=custom_loss_function , run_eagerly= False )\n",
    "    \n",
    "    model3.load_weights('Models/' + words+'.h5')\n",
    "    \n",
    "    def make_inference_models():\n",
    "        \n",
    "        encoder_model = tf.keras.models.Model(encoder_inputs, encoder_states)\n",
    "    \n",
    "        decoder_state_input_h = tf.keras.layers.Input(shape=( 200 ,))\n",
    "        decoder_state_input_c = tf.keras.layers.Input(shape=( 200 ,))\n",
    "        \n",
    "        decoder_states_inputs = [decoder_state_input_h, decoder_state_input_c]\n",
    "        \n",
    "        decoder_outputs, state_h, state_c = decoder_lstm(\n",
    "            decoder_embedding , initial_state=decoder_states_inputs)\n",
    "        \n",
    "        decoder_states = [state_h, state_c]\n",
    "\n",
    "        decoder_outputs = decoder_dense(decoder_outputs)\n",
    "        \n",
    "        decoder_model = tf.keras.models.Model(\n",
    "            [decoder_inputs] + decoder_states_inputs,\n",
    "            [decoder_outputs] + decoder_states)\n",
    "        \n",
    "        return encoder_model , decoder_model\n",
    "    \n",
    "    def str_to_tokens( sentence : str ):\n",
    "\n",
    "        words = sentence.lower().split()\n",
    "        tokens_list = list()\n",
    "    \n",
    "        for word in words:\n",
    "            tokens_list.append( tokenizer.word_index[ word ] ) \n",
    "        return preprocessing.sequence.pad_sequences( [tokens_list] , maxlen=maxlen_questions , padding='post')\n",
    "    enc_model , dec_model = make_inference_models()\n",
    "\n",
    "    # for _ in range(10):\n",
    "    # print(\"beta\")\n",
    "    ads = str_to_tokens( message)\n",
    "    # print(ads)\n",
    "    states_values = enc_model.predict(ads)\n",
    "    empty_target_seq = np.zeros( ( 1 , 1 ) )\n",
    "    empty_target_seq[0, 0] = tokenizer.word_index['start']\n",
    "    stop_condition = False\n",
    "    decoded_translation = ''\n",
    "    while not stop_condition :\n",
    "        dec_outputs , h , c = dec_model.predict([ empty_target_seq ] + states_values )\n",
    "        sampled_word_index = np.argmax( dec_outputs[0, -1, :] )\n",
    "        if sampled_word_index == 0 :\n",
    "            sampled_word_index =8\n",
    "        # sampled_word = None\n",
    "        # print(sampled_word_index)\n",
    "        for word , index in tokenizer.word_index.items() :\n",
    "            if sampled_word_index == index :\n",
    "                decoded_translation += ' {}'.format( word )\n",
    "                sampled_word = word\n",
    "        \n",
    "        if sampled_word == 'end' or len(decoded_translation.split()) > 10:\n",
    "            stop_condition = True\n",
    "            \n",
    "        empty_target_seq = np.zeros( ( 1 , 1 ) )  \n",
    "        empty_target_seq[ 0 , 0 ] = sampled_word_index\n",
    "        states_values = [ h , c ] \n",
    "    # print(decoded_translation)\n",
    "    questions.clear()\n",
    "    answers.clear()\n",
    "    return decoded_translation \n",
    "    "
   ]
  },
  {
   "cell_type": "code",
   "execution_count": 5,
   "metadata": {},
   "outputs": [],
   "source": [
    "def sentimental_classifer(message):\n",
    "   f = open(\"Models/tfdf.pickle\", \"rb+\")\n",
    "   tfidf = pickle.load(f)\n",
    "   f.close()\n",
    "\n",
    "   message1 = []\n",
    "   message1.append(message)\n",
    "   x = tfidf.transform(message1).astype('float16')\n",
    "   model_sentiment_dnn = tf.keras.models.load_model('Models/model_dnn.h5')\n",
    "   onehot =  model_sentiment_dnn.predict(x)\n",
    "\n",
    "   idx = np.argmax(onehot, axis=1)[0]\n",
    "   unique_sentiments = ['sentimental', 'afraid', 'proud', 'faithful', 'joyful', 'angry', 'sad', 'annoyed', 'disgusted', 'anticipating', 'neutral', 'surprised']\n",
    "   sentiment = unique_sentiments[idx]\n",
    "   print(\"sentiment: \", sentiment)\n",
    "   result = MA(sentiment,message)\n",
    "   return result\n",
    "    \n"
   ]
  },
  {
   "cell_type": "code",
   "execution_count": 7,
   "metadata": {},
   "outputs": [
    {
     "name": "stdout",
     "output_type": "stream",
     "text": [
      "sentiment:  surprised\n",
      " i am so excited end\n",
      "sentiment:  sad\n",
      " it see thank it thanks get win her a i it\n",
      "sentiment:  joyful\n",
      " i am so happy to have a good time end\n",
      "sentiment:  faithful\n",
      " i am so glad you are going to do great end\n",
      "sentiment:  faithful\n",
      " i am so glad you are going to do great end\n"
     ]
    },
    {
     "ename": "KeyboardInterrupt",
     "evalue": "Interrupted by user",
     "output_type": "error",
     "traceback": [
      "\u001b[1;31m---------------------------------------------------------------------------\u001b[0m",
      "\u001b[1;31mKeyboardInterrupt\u001b[0m                         Traceback (most recent call last)",
      "Cell \u001b[1;32mIn [7], line 2\u001b[0m\n\u001b[0;32m      1\u001b[0m \u001b[39mwhile\u001b[39;00m \u001b[39mTrue\u001b[39;00m:\n\u001b[1;32m----> 2\u001b[0m     message \u001b[39m=\u001b[39m \u001b[39minput\u001b[39;49m()\n\u001b[0;32m      3\u001b[0m     \u001b[39mprint\u001b[39m(sentimental_classifer(message))\n",
      "File \u001b[1;32mc:\\Users\\ACER\\anaconda3\\envs\\tfgpu\\lib\\site-packages\\ipykernel\\kernelbase.py:1177\u001b[0m, in \u001b[0;36mKernel.raw_input\u001b[1;34m(self, prompt)\u001b[0m\n\u001b[0;32m   1173\u001b[0m \u001b[39mif\u001b[39;00m \u001b[39mnot\u001b[39;00m \u001b[39mself\u001b[39m\u001b[39m.\u001b[39m_allow_stdin:\n\u001b[0;32m   1174\u001b[0m     \u001b[39mraise\u001b[39;00m StdinNotImplementedError(\n\u001b[0;32m   1175\u001b[0m         \u001b[39m\"\u001b[39m\u001b[39mraw_input was called, but this frontend does not support input requests.\u001b[39m\u001b[39m\"\u001b[39m\n\u001b[0;32m   1176\u001b[0m     )\n\u001b[1;32m-> 1177\u001b[0m \u001b[39mreturn\u001b[39;00m \u001b[39mself\u001b[39;49m\u001b[39m.\u001b[39;49m_input_request(\n\u001b[0;32m   1178\u001b[0m     \u001b[39mstr\u001b[39;49m(prompt),\n\u001b[0;32m   1179\u001b[0m     \u001b[39mself\u001b[39;49m\u001b[39m.\u001b[39;49m_parent_ident[\u001b[39m\"\u001b[39;49m\u001b[39mshell\u001b[39;49m\u001b[39m\"\u001b[39;49m],\n\u001b[0;32m   1180\u001b[0m     \u001b[39mself\u001b[39;49m\u001b[39m.\u001b[39;49mget_parent(\u001b[39m\"\u001b[39;49m\u001b[39mshell\u001b[39;49m\u001b[39m\"\u001b[39;49m),\n\u001b[0;32m   1181\u001b[0m     password\u001b[39m=\u001b[39;49m\u001b[39mFalse\u001b[39;49;00m,\n\u001b[0;32m   1182\u001b[0m )\n",
      "File \u001b[1;32mc:\\Users\\ACER\\anaconda3\\envs\\tfgpu\\lib\\site-packages\\ipykernel\\kernelbase.py:1219\u001b[0m, in \u001b[0;36mKernel._input_request\u001b[1;34m(self, prompt, ident, parent, password)\u001b[0m\n\u001b[0;32m   1216\u001b[0m             \u001b[39mbreak\u001b[39;00m\n\u001b[0;32m   1217\u001b[0m \u001b[39mexcept\u001b[39;00m \u001b[39mKeyboardInterrupt\u001b[39;00m:\n\u001b[0;32m   1218\u001b[0m     \u001b[39m# re-raise KeyboardInterrupt, to truncate traceback\u001b[39;00m\n\u001b[1;32m-> 1219\u001b[0m     \u001b[39mraise\u001b[39;00m \u001b[39mKeyboardInterrupt\u001b[39;00m(\u001b[39m\"\u001b[39m\u001b[39mInterrupted by user\u001b[39m\u001b[39m\"\u001b[39m) \u001b[39mfrom\u001b[39;00m \u001b[39mNone\u001b[39m\n\u001b[0;32m   1220\u001b[0m \u001b[39mexcept\u001b[39;00m \u001b[39mException\u001b[39;00m:\n\u001b[0;32m   1221\u001b[0m     \u001b[39mself\u001b[39m\u001b[39m.\u001b[39mlog\u001b[39m.\u001b[39mwarning(\u001b[39m\"\u001b[39m\u001b[39mInvalid Message:\u001b[39m\u001b[39m\"\u001b[39m, exc_info\u001b[39m=\u001b[39m\u001b[39mTrue\u001b[39;00m)\n",
      "\u001b[1;31mKeyboardInterrupt\u001b[0m: Interrupted by user"
     ]
    }
   ],
   "source": [
    "while True:\n",
    "    message = input()\n",
    "    print(sentimental_classifer(message))"
   ]
  },
  {
   "cell_type": "code",
   "execution_count": null,
   "metadata": {},
   "outputs": [],
   "source": []
  }
 ],
 "metadata": {
  "kernelspec": {
   "display_name": "Python 3.9.15 ('tfgpu')",
   "language": "python",
   "name": "python3"
  },
  "language_info": {
   "codemirror_mode": {
    "name": "ipython",
    "version": 3
   },
   "file_extension": ".py",
   "mimetype": "text/x-python",
   "name": "python",
   "nbconvert_exporter": "python",
   "pygments_lexer": "ipython3",
   "version": "3.9.15"
  },
  "orig_nbformat": 4,
  "vscode": {
   "interpreter": {
    "hash": "04ee3065d2333376d0aa8ad1893b6f4d1e1600d75ce606d1ee7a0507ce07e97f"
   }
  }
 },
 "nbformat": 4,
 "nbformat_minor": 2
}
