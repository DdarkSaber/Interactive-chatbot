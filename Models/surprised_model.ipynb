{
 "cells": [
  {
   "cell_type": "code",
   "execution_count": 8,
   "metadata": {},
   "outputs": [],
   "source": [
    "import numpy as np \n",
    "import tensorflow as tf\n",
    "import pickle\n",
    "from tensorflow.keras import  preprocessing, utils\n",
    "from tensorflow.keras.models import Sequential\n",
    "# from tensorflow.keras.layers.recurrent import LSTM,SimpleRNN\n",
    "import yaml\n",
    "import os\n",
    "import pandas as pd\n",
    "# from numba import jit, cuda\n",
    "import pickle\n",
    "from statistics import mode"
   ]
  },
  {
   "cell_type": "code",
   "execution_count": 9,
   "metadata": {},
   "outputs": [],
   "source": [
    "tokenizer = preprocessing.text.Tokenizer(oov_token=1)\n",
    "def token(questions , answers):\n",
    "    # tokenizer = preprocessing.text.Tokenizer()\n",
    "    tokenizer.fit_on_texts( questions + answers )\n",
    "    VOCAB_SIZE = len( tokenizer.word_index )+1\n",
    "    # print( 'VOCAB SIZE : {}'.format( VOCAB_SIZE ))\n",
    "\n",
    "\n",
    "    vocab = []\n",
    "    for word in tokenizer.word_index:\n",
    "        vocab.append(word)\n",
    "    \n",
    "    maxlen_questions = int(np.ceil(np.mean([len(q) for q in questions])))\n",
    "    maxlen_answers = int(np.ceil(np.mean([len(a) for a in answers])))\n",
    "    \n",
    "    print(maxlen_questions , maxlen_answers)\n",
    "    tokenized_questions = tokenizer.texts_to_sequences( questions  )\n",
    "    padded_questions = preprocessing.sequence.pad_sequences( tokenized_questions, maxlen = maxlen_questions, padding = 'post' ,truncating= 'post')\n",
    "    encoder_input_data = np.array(padded_questions)\n",
    "\n",
    "\n",
    "    tokenized_answers = tokenizer.texts_to_sequences( answers  )\n",
    "    padded_answers = np.array(preprocessing.sequence.pad_sequences( tokenized_answers , maxlen= maxlen_answers , padding='post',truncating= 'post' ))\n",
    "    decoder_input_data = np.array( padded_answers )\n",
    "\n",
    "\n",
    "    for i in range(len(tokenized_answers)) :\n",
    "        tokenized_answers[i] = tokenized_answers[i][1:]\n",
    "    padded_answers1 = preprocessing.sequence.pad_sequences( tokenized_answers , maxlen=maxlen_answers , padding='post',truncating= 'post'  )\n",
    "    # onehot_answers = utils.to_categorical( padded_answers1 , num_classes= VOCAB_SIZE ,dtype = 'float32' )\n",
    "    decoder_output_data = np.array( padded_answers1 )\n",
    "    return VOCAB_SIZE ,maxlen_questions, maxlen_answers,encoder_input_data ,decoder_input_data ,decoder_output_data"
   ]
  },
  {
   "cell_type": "code",
   "execution_count": 10,
   "metadata": {},
   "outputs": [],
   "source": [
    "with open ('../processed_dataset/surprised.pickle','rb+') as f: \n",
    "  questions , answers =  pickle.load(f)"
   ]
  },
  {
   "cell_type": "code",
   "execution_count": 11,
   "metadata": {},
   "outputs": [
    {
     "name": "stdout",
     "output_type": "stream",
     "text": [
      "65 73\n"
     ]
    }
   ],
   "source": [
    "VOCAB_SIZE, maxlen_questions, maxlen_answers, encoder_input_data, decoder_input_data, decoder_output_data = token(questions , answers)"
   ]
  },
  {
   "cell_type": "code",
   "execution_count": 12,
   "metadata": {},
   "outputs": [
    {
     "name": "stdout",
     "output_type": "stream",
     "text": [
      "5722 65 73 (5760, 65) (5760, 73) (5760, 73)\n"
     ]
    }
   ],
   "source": [
    "print(VOCAB_SIZE, maxlen_questions, maxlen_answers, encoder_input_data.shape, decoder_input_data.shape, decoder_output_data.shape)"
   ]
  },
  {
   "cell_type": "code",
   "execution_count": 13,
   "metadata": {},
   "outputs": [],
   "source": [
    "def custom_loss_function(y_true, y_pred):\n",
    "   y1 = tf.numpy_function(utils.to_categorical , [y_true ,VOCAB_SIZE] , tf.float32) \n",
    "   cce = tf.keras.losses.CategoricalCrossentropy()\n",
    "   # y2 = utils.to_categorical(y_true , VOCAB_SIZE )\n",
    "   # print(y1[0] , y2[0])\n",
    "   loss = cce(y1, y_pred)\n",
    "   # del y1\n",
    "   return loss"
   ]
  },
  {
   "cell_type": "code",
   "execution_count": 14,
   "metadata": {},
   "outputs": [
    {
     "name": "stdout",
     "output_type": "stream",
     "text": [
      "Model: \"model_1\"\n",
      "__________________________________________________________________________________________________\n",
      "Layer (type)                    Output Shape         Param #     Connected to                     \n",
      "==================================================================================================\n",
      "input_3 (InputLayer)            [(None, 65)]         0                                            \n",
      "__________________________________________________________________________________________________\n",
      "input_4 (InputLayer)            [(None, 73)]         0                                            \n",
      "__________________________________________________________________________________________________\n",
      "embedding_2 (Embedding)         (None, 65, 200)      1144400     input_3[0][0]                    \n",
      "__________________________________________________________________________________________________\n",
      "embedding_3 (Embedding)         (None, 73, 200)      1144400     input_4[0][0]                    \n",
      "__________________________________________________________________________________________________\n",
      "lstm_2 (LSTM)                   [(None, 200), (None, 320800      embedding_2[0][0]                \n",
      "__________________________________________________________________________________________________\n",
      "lstm_3 (LSTM)                   [(None, 73, 200), (N 320800      embedding_3[0][0]                \n",
      "                                                                 lstm_2[0][1]                     \n",
      "                                                                 lstm_2[0][2]                     \n",
      "__________________________________________________________________________________________________\n",
      "dense_1 (Dense)                 (None, 73, 5722)     1150122     lstm_3[0][0]                     \n",
      "==================================================================================================\n",
      "Total params: 4,080,522\n",
      "Trainable params: 4,080,522\n",
      "Non-trainable params: 0\n",
      "__________________________________________________________________________________________________\n"
     ]
    }
   ],
   "source": [
    "# encoder_inputs = tf.keras.layers.Input(shape=( maxlen_questions , ))\n",
    "# encoder_embedding = tf.keras.layers.Embedding( VOCAB_SIZE ,200, mask_zero=True ) ( encoder_inputs )\n",
    "# encoder_lstm1 = tf.keras.layers.LSTM ( 200 , return_state=True , return_sequences=True)\n",
    "# encoder_lstm2 = tf.keras.layers.LSTM ( 200 , return_state=True , return_sequences=True)\n",
    "# encoder_output1 , state_h1 , state_c1 = encoder_lstm1(encoder_embedding )\n",
    "# encoded_state1 = [state_h1 , state_c1]\n",
    "# encoder_output2 , state_h2 , state_c2 = encoder_lstm2(encoder_output1)\n",
    "# encoded_state2 = [state_h2 , state_c2]\n",
    "\n",
    "# decoder_inputs = tf.keras.layers.Input(shape=( maxlen_answers ,  ))\n",
    "# decoder_embedding = tf.keras.layers.Embedding( VOCAB_SIZE ,200, mask_zero=True ) ( decoder_inputs )\n",
    "# decoder_lstm1 = tf.keras.layers.LSTM( 200 , return_state=True , return_sequences=True)\n",
    "# decoder_lstm2 = tf.keras.layers.LSTM( 200 , return_state=True , return_sequences=True)\n",
    "# decoder_output1 ,state_h3 , state_c3 = decoder_lstm1 (decoder_embedding ,  initial_state=encoded_state1)\n",
    "# decoder_state21 = [state_h3 , state_c3]\n",
    "# decoder_lstm_output1 = [decoder_output1]\n",
    "# decoder_output2 ,state_h4 ,state_c4  = decoder_lstm2 (decoder_output1 ,  initial_state=encoded_state2)\n",
    "# decoder_state2 = [state_h4 , state_c4]\n",
    "# decoder_dense = tf.keras.layers.Dense( VOCAB_SIZE , activation=tf.keras.activations.softmax)\n",
    "# output = decoder_dense (decoder_output2)\n",
    "\n",
    "encoder_inputs = tf.keras.layers.Input(shape=( maxlen_questions , ))\n",
    "encoder_embedding = tf.keras.layers.Embedding( VOCAB_SIZE, 200 , mask_zero=True ) (encoder_inputs)\n",
    "encoder_outputs , state_h , state_c = tf.keras.layers.LSTM( 200 , return_state=True )( encoder_embedding )\n",
    "encoder_states = [ state_h , state_c ]\n",
    "\n",
    "decoder_inputs = tf.keras.layers.Input(shape=( maxlen_answers ,  ))\n",
    "decoder_embedding = tf.keras.layers.Embedding( VOCAB_SIZE, 200 , mask_zero=True) (decoder_inputs)\n",
    "decoder_lstm = tf.keras.layers.LSTM( 200 , return_state=True , return_sequences=True )\n",
    "decoder_outputs , _ , _ = decoder_lstm ( decoder_embedding , initial_state=encoder_states )\n",
    "decoder_dense = tf.keras.layers.Dense( VOCAB_SIZE , activation=tf.keras.activations.softmax ) \n",
    "output = decoder_dense ( decoder_outputs )\n",
    "model3 = tf.keras.models.Model([encoder_inputs, decoder_inputs], output )\n",
    "model3.compile(optimizer=tf.keras.optimizers.RMSprop(), loss=custom_loss_function , run_eagerly= False )\n",
    "model3.summary()"
   ]
  },
  {
   "cell_type": "code",
   "execution_count": 15,
   "metadata": {},
   "outputs": [
    {
     "name": "stdout",
     "output_type": "stream",
     "text": [
      "Epoch 1/15\n",
      "116/116 [==============================] - 150s 1s/step - loss: 0.3143\n",
      "Epoch 2/15\n",
      "116/116 [==============================] - 131s 1s/step - loss: 0.1926\n",
      "Epoch 3/15\n",
      "116/116 [==============================] - 131s 1s/step - loss: 0.1846\n",
      "Epoch 4/15\n",
      "116/116 [==============================] - 132s 1s/step - loss: 0.1777\n",
      "Epoch 5/15\n",
      "116/116 [==============================] - 131s 1s/step - loss: 0.1711\n",
      "Epoch 6/15\n",
      "116/116 [==============================] - 132s 1s/step - loss: 0.1650\n",
      "Epoch 7/15\n",
      "116/116 [==============================] - 131s 1s/step - loss: 0.1601\n",
      "Epoch 8/15\n",
      "116/116 [==============================] - 134s 1s/step - loss: 0.1564\n",
      "Epoch 9/15\n",
      "116/116 [==============================] - 132s 1s/step - loss: 0.1532\n",
      "Epoch 10/15\n",
      "116/116 [==============================] - 98s 847ms/step - loss: 0.1503\n",
      "Epoch 11/15\n",
      "116/116 [==============================] - 109s 943ms/step - loss: 0.1479\n",
      "Epoch 12/15\n",
      "116/116 [==============================] - 127s 1s/step - loss: 0.1453\n",
      "Epoch 13/15\n",
      "116/116 [==============================] - 130s 1s/step - loss: 0.1432\n",
      "Epoch 14/15\n",
      "116/116 [==============================] - 128s 1s/step - loss: 0.1409\n",
      "Epoch 15/15\n",
      "116/116 [==============================] - 127s 1s/step - loss: 0.1387\n"
     ]
    }
   ],
   "source": [
    "with tf.device('/cpu:0'):\n",
    "    model3.fit([encoder_input_data, decoder_input_data], decoder_output_data, batch_size= 50, epochs= 15 ) \n",
    "    model3.save( 'surprised.h5' )"
   ]
  },
  {
   "cell_type": "code",
   "execution_count": 17,
   "metadata": {},
   "outputs": [
    {
     "name": "stderr",
     "output_type": "stream",
     "text": [
      "WARNING:absl:Found untraced functions such as lstm_cell_2_layer_call_and_return_conditional_losses, lstm_cell_2_layer_call_fn, lstm_cell_3_layer_call_and_return_conditional_losses, lstm_cell_3_layer_call_fn, lstm_cell_2_layer_call_fn while saving (showing 5 of 10). These functions will not be directly callable after loading.\n"
     ]
    },
    {
     "name": "stdout",
     "output_type": "stream",
     "text": [
      "INFO:tensorflow:Assets written to: surprised_folder\\assets\n"
     ]
    },
    {
     "name": "stderr",
     "output_type": "stream",
     "text": [
      "INFO:tensorflow:Assets written to: surprised_folder\\assets\n"
     ]
    }
   ],
   "source": [
    "model3.save(\"surprised_folder\")"
   ]
  },
  {
   "cell_type": "code",
   "execution_count": 18,
   "metadata": {},
   "outputs": [
    {
     "name": "stdout",
     "output_type": "stream",
     "text": [
      "WARNING:tensorflow:Compiled the loaded model, but the compiled metrics have yet to be built. `model.compile_metrics` will be empty until you train or evaluate the model.\n"
     ]
    },
    {
     "name": "stderr",
     "output_type": "stream",
     "text": [
      "WARNING:tensorflow:Compiled the loaded model, but the compiled metrics have yet to be built. `model.compile_metrics` will be empty until you train or evaluate the model.\n"
     ]
    },
    {
     "name": "stdout",
     "output_type": "stream",
     "text": [
      "WARNING:tensorflow:Compiled the loaded model, but the compiled metrics have yet to be built. `model.compile_metrics` will be empty until you train or evaluate the model.\n"
     ]
    },
    {
     "name": "stderr",
     "output_type": "stream",
     "text": [
      "WARNING:tensorflow:Compiled the loaded model, but the compiled metrics have yet to be built. `model.compile_metrics` will be empty until you train or evaluate the model.\n"
     ]
    },
    {
     "name": "stdout",
     "output_type": "stream",
     "text": [
      "WARNING:tensorflow:Model was constructed with shape (None, 73) for input KerasTensor(type_spec=TensorSpec(shape=(None, 73), dtype=tf.float32, name='input_4'), name='input_4', description=\"created by layer 'input_4'\"), but it was called on an input with incompatible shape (None, 1).\n"
     ]
    },
    {
     "name": "stderr",
     "output_type": "stream",
     "text": [
      "WARNING:tensorflow:Model was constructed with shape (None, 73) for input KerasTensor(type_spec=TensorSpec(shape=(None, 73), dtype=tf.float32, name='input_4'), name='input_4', description=\"created by layer 'input_4'\"), but it was called on an input with incompatible shape (None, 1).\n"
     ]
    },
    {
     "name": "stdout",
     "output_type": "stream",
     "text": [
      " i am so excited end\n"
     ]
    },
    {
     "ename": "KeyboardInterrupt",
     "evalue": "Interrupted by user",
     "output_type": "error",
     "traceback": [
      "\u001b[1;31m---------------------------------------------------------------------------\u001b[0m",
      "\u001b[1;31mKeyboardInterrupt\u001b[0m                         Traceback (most recent call last)",
      "Cell \u001b[1;32mIn [18], line 34\u001b[0m\n\u001b[0;32m     31\u001b[0m enc_model , dec_model \u001b[39m=\u001b[39m make_inference_models()\n\u001b[0;32m     33\u001b[0m \u001b[39mfor\u001b[39;00m _ \u001b[39min\u001b[39;00m \u001b[39mrange\u001b[39m(\u001b[39m10\u001b[39m):\n\u001b[1;32m---> 34\u001b[0m     states_values \u001b[39m=\u001b[39m enc_model\u001b[39m.\u001b[39mpredict( str_to_tokens( \u001b[39minput\u001b[39;49m( \u001b[39m'\u001b[39;49m\u001b[39mEnter question : \u001b[39;49m\u001b[39m'\u001b[39;49m ) ) )\n\u001b[0;32m     35\u001b[0m     empty_target_seq \u001b[39m=\u001b[39m np\u001b[39m.\u001b[39mzeros( ( \u001b[39m1\u001b[39m , \u001b[39m1\u001b[39m ) )\n\u001b[0;32m     36\u001b[0m     empty_target_seq[\u001b[39m0\u001b[39m, \u001b[39m0\u001b[39m] \u001b[39m=\u001b[39m tokenizer\u001b[39m.\u001b[39mword_index[\u001b[39m'\u001b[39m\u001b[39mstart\u001b[39m\u001b[39m'\u001b[39m]\n",
      "File \u001b[1;32mc:\\Users\\ACER\\anaconda3\\envs\\tfgpu\\lib\\site-packages\\ipykernel\\kernelbase.py:1177\u001b[0m, in \u001b[0;36mKernel.raw_input\u001b[1;34m(self, prompt)\u001b[0m\n\u001b[0;32m   1173\u001b[0m \u001b[39mif\u001b[39;00m \u001b[39mnot\u001b[39;00m \u001b[39mself\u001b[39m\u001b[39m.\u001b[39m_allow_stdin:\n\u001b[0;32m   1174\u001b[0m     \u001b[39mraise\u001b[39;00m StdinNotImplementedError(\n\u001b[0;32m   1175\u001b[0m         \u001b[39m\"\u001b[39m\u001b[39mraw_input was called, but this frontend does not support input requests.\u001b[39m\u001b[39m\"\u001b[39m\n\u001b[0;32m   1176\u001b[0m     )\n\u001b[1;32m-> 1177\u001b[0m \u001b[39mreturn\u001b[39;00m \u001b[39mself\u001b[39;49m\u001b[39m.\u001b[39;49m_input_request(\n\u001b[0;32m   1178\u001b[0m     \u001b[39mstr\u001b[39;49m(prompt),\n\u001b[0;32m   1179\u001b[0m     \u001b[39mself\u001b[39;49m\u001b[39m.\u001b[39;49m_parent_ident[\u001b[39m\"\u001b[39;49m\u001b[39mshell\u001b[39;49m\u001b[39m\"\u001b[39;49m],\n\u001b[0;32m   1180\u001b[0m     \u001b[39mself\u001b[39;49m\u001b[39m.\u001b[39;49mget_parent(\u001b[39m\"\u001b[39;49m\u001b[39mshell\u001b[39;49m\u001b[39m\"\u001b[39;49m),\n\u001b[0;32m   1181\u001b[0m     password\u001b[39m=\u001b[39;49m\u001b[39mFalse\u001b[39;49;00m,\n\u001b[0;32m   1182\u001b[0m )\n",
      "File \u001b[1;32mc:\\Users\\ACER\\anaconda3\\envs\\tfgpu\\lib\\site-packages\\ipykernel\\kernelbase.py:1219\u001b[0m, in \u001b[0;36mKernel._input_request\u001b[1;34m(self, prompt, ident, parent, password)\u001b[0m\n\u001b[0;32m   1216\u001b[0m             \u001b[39mbreak\u001b[39;00m\n\u001b[0;32m   1217\u001b[0m \u001b[39mexcept\u001b[39;00m \u001b[39mKeyboardInterrupt\u001b[39;00m:\n\u001b[0;32m   1218\u001b[0m     \u001b[39m# re-raise KeyboardInterrupt, to truncate traceback\u001b[39;00m\n\u001b[1;32m-> 1219\u001b[0m     \u001b[39mraise\u001b[39;00m \u001b[39mKeyboardInterrupt\u001b[39;00m(\u001b[39m\"\u001b[39m\u001b[39mInterrupted by user\u001b[39m\u001b[39m\"\u001b[39m) \u001b[39mfrom\u001b[39;00m \u001b[39mNone\u001b[39m\n\u001b[0;32m   1220\u001b[0m \u001b[39mexcept\u001b[39;00m \u001b[39mException\u001b[39;00m:\n\u001b[0;32m   1221\u001b[0m     \u001b[39mself\u001b[39m\u001b[39m.\u001b[39mlog\u001b[39m.\u001b[39mwarning(\u001b[39m\"\u001b[39m\u001b[39mInvalid Message:\u001b[39m\u001b[39m\"\u001b[39m, exc_info\u001b[39m=\u001b[39m\u001b[39mTrue\u001b[39;00m)\n",
      "\u001b[1;31mKeyboardInterrupt\u001b[0m: Interrupted by user"
     ]
    }
   ],
   "source": [
    "def make_inference_models():\n",
    "    \n",
    "    encoder_model = tf.keras.models.Model(encoder_inputs, encoder_states)\n",
    "    \n",
    "    decoder_state_input_h = tf.keras.layers.Input(shape=( 200 ,))\n",
    "    decoder_state_input_c = tf.keras.layers.Input(shape=( 200 ,))\n",
    "    \n",
    "    decoder_states_inputs = [decoder_state_input_h, decoder_state_input_c]\n",
    "    \n",
    "    decoder_outputs, state_h, state_c = decoder_lstm(\n",
    "        decoder_embedding , initial_state=decoder_states_inputs)\n",
    "    \n",
    "    decoder_states = [state_h, state_c]\n",
    "\n",
    "    decoder_outputs = decoder_dense(decoder_outputs)\n",
    "    \n",
    "    decoder_model = tf.keras.models.Model(\n",
    "        [decoder_inputs] + decoder_states_inputs,\n",
    "        [decoder_outputs] + decoder_states)\n",
    "    encoder_model.save('surprised_encoder.h5')\n",
    "    decoder_model.save('surprised_decoder.h5')\n",
    "    return encoder_model , decoder_model\n",
    "def str_to_tokens( sentence : str ):\n",
    "\n",
    "    words = sentence.lower().split()\n",
    "    tokens_list = list()\n",
    "  \n",
    "    for word in words:\n",
    "        tokens_list.append( tokenizer.word_index[ word ] ) \n",
    "    return preprocessing.sequence.pad_sequences( [tokens_list] , maxlen=maxlen_questions , padding='post')\n",
    "enc_model , dec_model = make_inference_models()\n",
    "\n",
    "for _ in range(10):\n",
    "    states_values = enc_model.predict( str_to_tokens( input( 'Enter question : ' ) ) )\n",
    "    empty_target_seq = np.zeros( ( 1 , 1 ) )\n",
    "    empty_target_seq[0, 0] = tokenizer.word_index['start']\n",
    "    stop_condition = False\n",
    "    decoded_translation = ''\n",
    "    while not stop_condition :\n",
    "        dec_outputs , h , c = dec_model.predict([ empty_target_seq ] + states_values )\n",
    "        sampled_word_index = np.argmax( dec_outputs[0, -1, :] )\n",
    "        sampled_word = None\n",
    "        for word , index in tokenizer.word_index.items() :\n",
    "            if sampled_word_index == index :\n",
    "                decoded_translation += ' {}'.format( word )\n",
    "                sampled_word = word\n",
    "        \n",
    "        if sampled_word == 'end' or len(decoded_translation.split()) > maxlen_answers:\n",
    "            stop_condition = True\n",
    "            \n",
    "        empty_target_seq = np.zeros( ( 1 , 1 ) )  \n",
    "        empty_target_seq[ 0 , 0 ] = sampled_word_index\n",
    "        states_values = [ h , c ] \n",
    "\n",
    "    print( decoded_translation )"
   ]
  },
  {
   "cell_type": "code",
   "execution_count": null,
   "metadata": {},
   "outputs": [],
   "source": [
    "def str_to_tokens( sentence : str ):\n",
    "\n",
    "    words = sentence.lower().split()\n",
    "    tokens_list = list()\n",
    "  \n",
    "    for word in words:\n",
    "        tokens_list.append( tokenizer.word_index[ word ] ) \n",
    "    return preprocessing.sequence.pad_sequences( [tokens_list] , maxlen=maxlen_questions , padding='post')"
   ]
  },
  {
   "cell_type": "code",
   "execution_count": null,
   "metadata": {},
   "outputs": [],
   "source": [
    "def encoder_model():\n",
    "    \n",
    "    encoder_output1 , state_h1, state_c1 = encoder_lstm(encoder_embedding)\n",
    "    encoded_state1 = [state_h1, state_c1]\n",
    "\n",
    "    encoder_output2 , state_h2, state_c2 = encoder_lstm(encoder_output1)\n",
    "    encoded_state2 = [state_h2, state_c2]\n",
    "\n",
    "    encoder_model = tf.keras.models.Model (encoder_inputs, [encoded_state1] + [encoded_state2])\n",
    "    \n",
    "    return encoder_model\n",
    "    # encoder_output1 , state_h1, state_c1 = encoder_lstm1(encoder_embedding)\n",
    "    # encoded_state1 = [state_h1, state_c1]\n",
    "\n",
    "    # encoder_output2 , state_h2, state_c2 = encoder_lstm2(encoder_output1)\n",
    "    # encoded_state2 = [state_h2, state_c2]\n",
    "\n",
    "    # encoder_model = tf.keras.models.Model (encoder_inputs, [encoded_state2] + [encoded_state1])\n",
    "    \n",
    "    return encoder_model\n",
    "    "
   ]
  },
  {
   "cell_type": "code",
   "execution_count": null,
   "metadata": {},
   "outputs": [],
   "source": [
    "def decoder_model():    \n",
    "    decoder_state_input_h1 = tf.keras.layers.Input(shape=( 200 ,))\n",
    "    decoder_state_input_c1 = tf.keras.layers.Input(shape=( 200 ,))\n",
    "\n",
    "    decoder_state_input_h2 = tf.keras.layers.Input(shape=( 200 ,))\n",
    "    decoder_state_input_c2 = tf.keras.layers.Input(shape=( 200 ,))\n",
    "    \n",
    "    decoder_states_input1 = [decoder_state_input_h1, decoder_state_input_c1]\n",
    "    decoder_states_input2 = [decoder_state_input_h2, decoder_state_input_c2]\n",
    "\n",
    "    decoder_output1, state_h1, state_c1 = decoder_lstm(\n",
    "        decoder_embedding , initial_state=decoder_states_input1)\n",
    "\n",
    "    decoder_output2, state_h2, state_c2 = decoder_lstm(\n",
    "        decoder_output1 , initial_state= decoder_states_input2)\n",
    "\n",
    "    decoder_outputs = decoder_dense(decoder_output2)\n",
    "    decoder_states = [state_h2 ,state_c2]\n",
    "   \n",
    "    decoder_model = tf.keras.models.Model(\n",
    "        [decoder_inputs] + decoder_states_input1 + decoder_states_input2,\n",
    "        [decoder_outputs] + decoder_states)\n",
    "    \n",
    "    # decoder_state_input_h1 = tf.keras.layers.Input(shape=( 200 ,))\n",
    "    # decoder_state_input_c1 = tf.keras.layers.Input(shape=( 200 ,))\n",
    "\n",
    "    # decoder_state_input_h2 = tf.keras.layers.Input(shape=( 200 ,))\n",
    "    # decoder_state_input_c2 = tf.keras.layers.Input(shape=( 200 ,))\n",
    "    \n",
    "    # decoder_states_input1 = [decoder_state_input_h1, decoder_state_input_c1]\n",
    "    # decoder_states_input2 = [decoder_state_input_h2, decoder_state_input_c2]\n",
    "\n",
    "    # decoder_output1, state_h1, state_c1 = decoder_lstm1(\n",
    "    #     decoder_embedding , initial_state=decoder_states_input1)\n",
    "\n",
    "    # decoder_output2, state_h2, state_c2 = decoder_lstm2(\n",
    "    #     decoder_output1 , initial_state= decoder_states_input2)\n",
    "\n",
    "    # decoder_outputs = decoder_dense(decoder_output2)\n",
    "    # decoder_states = [state_h2 ,state_c2]\n",
    "   \n",
    "    # decoder_model = tf.keras.models.Model(\n",
    "    #     [decoder_inputs] + decoder_states_input1 + decoder_states_input2,\n",
    "    #     [decoder_outputs] + decoder_states)\n",
    "    return decoder_model"
   ]
  },
  {
   "cell_type": "code",
   "execution_count": null,
   "metadata": {},
   "outputs": [],
   "source": [
    "enc_model = encoder_model() \n",
    "dec_model = decoder_model()\n",
    "\n",
    "# for _ in range(10):\n",
    "#     states_values1 , states_values2  = enc_model.predict( str_to_tokens( input( 'Enter question : ' ) ) )\n",
    "#     empty_target_seq = np.zeros( ( 1 , 1 ) )\n",
    "#     \n",
    "#     empty_target_seq[0, 0] = tokenizer.word_index['start']\n",
    "#     \n",
    "#     stop_condition = False\n",
    "#     decoded_translation = ''\n",
    "#     while not stop_condition :\n",
    "#         print(\"alpha\")\n",
    "#         dec_outputs , h , c = dec_model.predict([ empty_target_seq ] + states_values1 + states_values2 )\n",
    "#         \n",
    "#         sampled_word_index = np.argmax( dec_outputs[0, -1, :] )\n",
    "#         sampled_word = None\n",
    "#         for word , index in tokenizer.word_index.items() :\n",
    "#             if sampled_word_index == index :\n",
    "#                 decoded_translation += ' {}'.format( word )\n",
    "#                 sampled_word = word\n",
    "        \n",
    "#         if sampled_word == 'end' or len(decoded_translation.split()) > maxlen_answers:\n",
    "#             stop_condition = True\n",
    "            \n",
    "#         empty_target_seq = np.zeros( ( 1 , 1 ) )  \n",
    "#         empty_target_seq[ 0 , 0 ] = sampled_word_index\n",
    "#         states_values = [ h , c ] \n",
    "\n",
    "#     print( decoded_translation )\n",
    "\n",
    "for _ in range(10):\n",
    "    states_values1 , states_values2 = enc_model.predict( str_to_tokens( input( 'Enter question : ' ) ) )\n",
    "    empty_target_seq = np.zeros( ( 1 , 1 ) )\n",
    "    empty_target_seq[0, 0] = tokenizer.word_index['start']\n",
    "    stop_condition = False\n",
    "    decoded_translation = ''\n",
    "    while not stop_condition :\n",
    "        # print(\"alpha\")\n",
    "        dec_outputs , h , c = dec_model.predict([ empty_target_seq ] + states_values1 + states_values2 )\n",
    "        # print(\"beta\")\n",
    "        sampled_word_index = np.argmax( dec_outputs[0, -1, :] )\n",
    "        sampled_word = None\n",
    "        # print(sampled_word_index)\n",
    "        for word , index in tokenizer.word_index.items() :\n",
    "            # print(word ,  index)\n",
    "            if sampled_word_index == index :\n",
    "                # print(\"here ----\")\n",
    "                decoded_translation += ' {}'.format( word )\n",
    "                sampled_word = word\n",
    "                print(decoded_translation)\n",
    "        # print(\"gamma\")\n",
    "        \n",
    "        if sampled_word == 'end' or len(decoded_translation.split()) > 5:\n",
    "            stop_condition = True\n",
    "            \n",
    "        empty_target_seq = np.zeros( ( 1 , 1 ) )  \n",
    "        empty_target_seq[ 0 , 0 ] = sampled_word_index\n",
    "        states_values2 = [ h , c ] \n",
    "\n",
    "    print( decoded_translation )"
   ]
  },
  {
   "cell_type": "code",
   "execution_count": 22,
   "metadata": {},
   "outputs": [],
   "source": [
    "f = open('surprised_tokenizer.pickle', 'wb')\n",
    "pickle.dump({\"tokenizer\": tokenizer, \"maxlen_answers\":maxlen_answers, \"maxlen_questions\":maxlen_questions}, f)\n",
    "f.close()\n",
    "# with open('surprized_tokenizer.pickle', 'wb') as handle:\n",
    "#     pickle.dump(tokenizer, handle, protocol=pickle.HIGHEST_PROTOCOL)\n",
    "#     handle.close()"
   ]
  },
  {
   "cell_type": "code",
   "execution_count": null,
   "metadata": {},
   "outputs": [],
   "source": []
  }
 ],
 "metadata": {
  "kernelspec": {
   "display_name": "Python 3.9.15 ('tfgpu')",
   "language": "python",
   "name": "python3"
  },
  "language_info": {
   "codemirror_mode": {
    "name": "ipython",
    "version": 3
   },
   "file_extension": ".py",
   "mimetype": "text/x-python",
   "name": "python",
   "nbconvert_exporter": "python",
   "pygments_lexer": "ipython3",
   "version": "3.9.15"
  },
  "orig_nbformat": 4,
  "vscode": {
   "interpreter": {
    "hash": "04ee3065d2333376d0aa8ad1893b6f4d1e1600d75ce606d1ee7a0507ce07e97f"
   }
  }
 },
 "nbformat": 4,
 "nbformat_minor": 2
}
