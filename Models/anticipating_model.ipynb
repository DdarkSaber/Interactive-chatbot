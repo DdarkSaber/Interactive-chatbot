{
 "cells": [
  {
   "cell_type": "code",
   "execution_count": null,
   "metadata": {},
   "outputs": [],
   "source": []
  },
  {
   "cell_type": "code",
   "execution_count": 1,
   "metadata": {},
   "outputs": [],
   "source": [
    "import numpy as np \n",
    "import tensorflow as tf\n",
    "import pickle\n",
    "from tensorflow.keras import  preprocessing, utils\n",
    "from tensorflow.keras.models import Sequential\n",
    "# from tensorflow.keras.layers.recurrent import LSTM,SimpleRNN\n",
    "import yaml\n",
    "import os\n",
    "import pandas as pd\n",
    "# from numba import jit, cuda\n",
    "import pickle\n",
    "from statistics import mode"
   ]
  },
  {
   "cell_type": "code",
   "execution_count": 2,
   "metadata": {},
   "outputs": [],
   "source": [
    "tokenizer = preprocessing.text.Tokenizer()\n",
    "def token(questions , answers):\n",
    "    # tokenizer = preprocessing.text.Tokenizer()\n",
    "    tokenizer.fit_on_texts( questions + answers )\n",
    "    VOCAB_SIZE = len( tokenizer.word_index )+1\n",
    "    # print( 'VOCAB SIZE : {}'.format( VOCAB_SIZE ))\n",
    "\n",
    "\n",
    "    vocab = []\n",
    "    for word in tokenizer.word_index:\n",
    "        vocab.append(word)\n",
    "    \n",
    "    maxlen_questions = int(np.ceil(np.mean([len(q) for q in questions])))\n",
    "    maxlen_answers = int(np.ceil(np.mean([len(a) for a in answers])))\n",
    "    \n",
    "    print(maxlen_questions , maxlen_answers)\n",
    "    tokenized_questions = tokenizer.texts_to_sequences( questions  )\n",
    "    padded_questions = preprocessing.sequence.pad_sequences( tokenized_questions, maxlen = maxlen_questions, padding = 'post' ,truncating= 'post')\n",
    "    encoder_input_data = np.array(padded_questions)\n",
    "\n",
    "\n",
    "    tokenized_answers = tokenizer.texts_to_sequences( answers  )\n",
    "    padded_answers = np.array(preprocessing.sequence.pad_sequences( tokenized_answers , maxlen= maxlen_answers , padding='post',truncating= 'post' ))\n",
    "    decoder_input_data = np.array( padded_answers )\n",
    "\n",
    "\n",
    "    for i in range(len(tokenized_answers)) :\n",
    "        tokenized_answers[i] = tokenized_answers[i][1:]\n",
    "    padded_answers1 = preprocessing.sequence.pad_sequences( tokenized_answers , maxlen=maxlen_answers , padding='post',truncating= 'post'  )\n",
    "    # onehot_answers = utils.to_categorical( padded_answers1 , num_classes= VOCAB_SIZE ,dtype = 'float32' )\n",
    "    decoder_output_data = np.array( padded_answers1 )\n",
    "    return VOCAB_SIZE ,maxlen_questions, maxlen_answers,encoder_input_data ,decoder_input_data ,decoder_output_data"
   ]
  },
  {
   "cell_type": "code",
   "execution_count": 4,
   "metadata": {},
   "outputs": [],
   "source": [
    "with open ('../processed_dataset/anticipating.pickle','rb+') as f: \n",
    "  questions , answers =  pickle.load(f)"
   ]
  },
  {
   "cell_type": "code",
   "execution_count": 5,
   "metadata": {},
   "outputs": [
    {
     "name": "stdout",
     "output_type": "stream",
     "text": [
      "69 78\n"
     ]
    }
   ],
   "source": [
    "VOCAB_SIZE, maxlen_questions, maxlen_answers, encoder_input_data, decoder_input_data, decoder_output_data = token(questions , answers)"
   ]
  },
  {
   "cell_type": "code",
   "execution_count": 6,
   "metadata": {},
   "outputs": [
    {
     "name": "stdout",
     "output_type": "stream",
     "text": [
      "5729 69 78 (5612, 69) (5612, 78) (5612, 78)\n"
     ]
    }
   ],
   "source": [
    "print(VOCAB_SIZE, maxlen_questions, maxlen_answers, encoder_input_data.shape, decoder_input_data.shape, decoder_output_data.shape)"
   ]
  },
  {
   "cell_type": "code",
   "execution_count": 7,
   "metadata": {},
   "outputs": [],
   "source": [
    "def custom_loss_function(y_true, y_pred):\n",
    "   y1 = tf.numpy_function(utils.to_categorical , [y_true ,VOCAB_SIZE] , tf.float32) \n",
    "   cce = tf.keras.losses.CategoricalCrossentropy()\n",
    "   # y2 = utils.to_categorical(y_true , VOCAB_SIZE )\n",
    "   # print(y1[0] , y2[0])\n",
    "   loss = cce(y1, y_pred)\n",
    "   # del y1\n",
    "   return loss"
   ]
  },
  {
   "cell_type": "code",
   "execution_count": 8,
   "metadata": {},
   "outputs": [
    {
     "name": "stdout",
     "output_type": "stream",
     "text": [
      "Model: \"model\"\n",
      "__________________________________________________________________________________________________\n",
      "Layer (type)                    Output Shape         Param #     Connected to                     \n",
      "==================================================================================================\n",
      "input_1 (InputLayer)            [(None, 69)]         0                                            \n",
      "__________________________________________________________________________________________________\n",
      "input_2 (InputLayer)            [(None, 78)]         0                                            \n",
      "__________________________________________________________________________________________________\n",
      "embedding (Embedding)           (None, 69, 200)      1145800     input_1[0][0]                    \n",
      "__________________________________________________________________________________________________\n",
      "embedding_1 (Embedding)         (None, 78, 200)      1145800     input_2[0][0]                    \n",
      "__________________________________________________________________________________________________\n",
      "lstm (LSTM)                     [(None, 200), (None, 320800      embedding[0][0]                  \n",
      "__________________________________________________________________________________________________\n",
      "lstm_1 (LSTM)                   [(None, 78, 200), (N 320800      embedding_1[0][0]                \n",
      "                                                                 lstm[0][1]                       \n",
      "                                                                 lstm[0][2]                       \n",
      "__________________________________________________________________________________________________\n",
      "dense (Dense)                   (None, 78, 5729)     1151529     lstm_1[0][0]                     \n",
      "==================================================================================================\n",
      "Total params: 4,084,729\n",
      "Trainable params: 4,084,729\n",
      "Non-trainable params: 0\n",
      "__________________________________________________________________________________________________\n"
     ]
    }
   ],
   "source": [
    "# encoder_inputs = tf.keras.layers.Input(shape=( maxlen_questions , ))\n",
    "# encoder_embedding = tf.keras.layers.Embedding( VOCAB_SIZE ,200, mask_zero=True ) ( encoder_inputs )\n",
    "# encoder_lstm1 = tf.keras.layers.LSTM ( 200 , return_state=True , return_sequences=True)\n",
    "# encoder_lstm2 = tf.keras.layers.LSTM ( 200 , return_state=True , return_sequences=True)\n",
    "# encoder_output1 , state_h1 , state_c1 = encoder_lstm1(encoder_embedding )\n",
    "# encoded_state1 = [state_h1 , state_c1]\n",
    "# encoder_output2 , state_h2 , state_c2 = encoder_lstm2(encoder_output1)\n",
    "# encoded_state2 = [state_h2 , state_c2]\n",
    "\n",
    "# decoder_inputs = tf.keras.layers.Input(shape=( maxlen_answers ,  ))\n",
    "# decoder_embedding = tf.keras.layers.Embedding( VOCAB_SIZE ,200, mask_zero=True ) ( decoder_inputs )\n",
    "# decoder_lstm1 = tf.keras.layers.LSTM( 200 , return_state=True , return_sequences=True)\n",
    "# decoder_lstm2 = tf.keras.layers.LSTM( 200 , return_state=True , return_sequences=True)\n",
    "# decoder_output1 ,state_h3 , state_c3 = decoder_lstm1 (decoder_embedding ,  initial_state=encoded_state1)\n",
    "# decoder_state21 = [state_h3 , state_c3]\n",
    "# decoder_lstm_output1 = [decoder_output1]\n",
    "# decoder_output2 ,state_h4 ,state_c4  = decoder_lstm2 (decoder_output1 ,  initial_state=encoded_state2)\n",
    "# decoder_state2 = [state_h4 , state_c4]\n",
    "# decoder_dense = tf.keras.layers.Dense( VOCAB_SIZE , activation=tf.keras.activations.softmax)\n",
    "# output = decoder_dense (decoder_output2)\n",
    "\n",
    "encoder_inputs = tf.keras.layers.Input(shape=( maxlen_questions , ))\n",
    "encoder_embedding = tf.keras.layers.Embedding( VOCAB_SIZE, 200 , mask_zero=True ) (encoder_inputs)\n",
    "encoder_outputs , state_h , state_c = tf.keras.layers.LSTM( 200 , return_state=True )( encoder_embedding )\n",
    "encoder_states = [ state_h , state_c ]\n",
    "\n",
    "decoder_inputs = tf.keras.layers.Input(shape=( maxlen_answers ,  ))\n",
    "decoder_embedding = tf.keras.layers.Embedding( VOCAB_SIZE, 200 , mask_zero=True) (decoder_inputs)\n",
    "decoder_lstm = tf.keras.layers.LSTM( 200 , return_state=True , return_sequences=True )\n",
    "decoder_outputs , _ , _ = decoder_lstm ( decoder_embedding , initial_state=encoder_states )\n",
    "decoder_dense = tf.keras.layers.Dense( VOCAB_SIZE , activation=tf.keras.activations.softmax ) \n",
    "output = decoder_dense ( decoder_outputs )\n",
    "model3 = tf.keras.models.Model([encoder_inputs, decoder_inputs], output )\n",
    "model3.compile(optimizer=tf.keras.optimizers.RMSprop(), loss=custom_loss_function , run_eagerly= False )\n",
    "model3.summary()"
   ]
  },
  {
   "cell_type": "code",
   "execution_count": 10,
   "metadata": {},
   "outputs": [
    {
     "name": "stdout",
     "output_type": "stream",
     "text": [
      "Epoch 1/10\n",
      "113/113 [==============================] - 133s 1s/step - loss: 0.1518\n",
      "Epoch 2/10\n",
      "113/113 [==============================] - 147s 1s/step - loss: 0.1492\n",
      "Epoch 3/10\n",
      "113/113 [==============================] - 132s 1s/step - loss: 0.1466\n",
      "Epoch 4/10\n",
      "113/113 [==============================] - 143s 1s/step - loss: 0.1445\n",
      "Epoch 5/10\n",
      "113/113 [==============================] - 138s 1s/step - loss: 0.1422\n",
      "Epoch 6/10\n",
      "113/113 [==============================] - 134s 1s/step - loss: 0.1395\n",
      "Epoch 7/10\n",
      "113/113 [==============================] - 132s 1s/step - loss: 0.1377\n",
      "Epoch 8/10\n",
      "113/113 [==============================] - 135s 1s/step - loss: 0.1352\n",
      "Epoch 9/10\n",
      "113/113 [==============================] - 134s 1s/step - loss: 0.1332\n",
      "Epoch 10/10\n",
      "113/113 [==============================] - 130s 1s/step - loss: 0.1310\n"
     ]
    }
   ],
   "source": [
    "with tf.device('/cpu:0'):\n",
    "    model3.fit([encoder_input_data, decoder_input_data], decoder_output_data, batch_size= 50, epochs= 10 ) \n",
    "    model3.save( 'anticipation.h5' )"
   ]
  },
  {
   "cell_type": "code",
   "execution_count": null,
   "metadata": {},
   "outputs": [
    {
     "name": "stdout",
     "output_type": "stream",
     "text": [
      "WARNING:tensorflow:Model was constructed with shape (None, 80) for input KerasTensor(type_spec=TensorSpec(shape=(None, 80), dtype=tf.float32, name='input_24'), name='input_24', description=\"created by layer 'input_24'\"), but it was called on an input with incompatible shape (None, 1).\n",
      " i am sorry to hear that end\n",
      " i hope you feel better end\n",
      " i am so sorry to hear that end\n",
      " i am sorry to hear that end\n",
      " oh no did you have a good time end\n",
      " oh no did you have a good time end\n",
      " oh no i am sorry to hear that end\n",
      " i am sorry to hear that end\n",
      " i hope you feel better end\n",
      " i hope you feel better end\n"
     ]
    }
   ],
   "source": [
    "def make_inference_models():\n",
    "    \n",
    "    encoder_model = tf.keras.models.Model(encoder_inputs, encoder_states)\n",
    "    \n",
    "    decoder_state_input_h = tf.keras.layers.Input(shape=( 200 ,))\n",
    "    decoder_state_input_c = tf.keras.layers.Input(shape=( 200 ,))\n",
    "    \n",
    "    decoder_states_inputs = [decoder_state_input_h, decoder_state_input_c]\n",
    "    \n",
    "    decoder_outputs, state_h, state_c = decoder_lstm(\n",
    "        decoder_embedding , initial_state=decoder_states_inputs)\n",
    "    \n",
    "    decoder_states = [state_h, state_c]\n",
    "\n",
    "    decoder_outputs = decoder_dense(decoder_outputs)\n",
    "    \n",
    "    decoder_model = tf.keras.models.Model(\n",
    "        [decoder_inputs] + decoder_states_inputs,\n",
    "        [decoder_outputs] + decoder_states)\n",
    "    \n",
    "    return encoder_model , decoder_model\n",
    "def str_to_tokens( sentence : str ):\n",
    "\n",
    "    words = sentence.lower().split()\n",
    "    tokens_list = list()\n",
    "  \n",
    "    for word in words:\n",
    "        tokens_list.append( tokenizer.word_index[ word ] ) \n",
    "    return preprocessing.sequence.pad_sequences( [tokens_list] , maxlen=maxlen_questions , padding='post')\n",
    "enc_model , dec_model = make_inference_models()\n",
    "\n",
    "for _ in range(10):\n",
    "    states_values = enc_model.predict( str_to_tokens( input( 'Enter question : ' ) ) )\n",
    "    empty_target_seq = np.zeros( ( 1 , 1 ) )\n",
    "    empty_target_seq[0, 0] = tokenizer.word_index['start']\n",
    "    stop_condition = False\n",
    "    decoded_translation = ''\n",
    "    while not stop_condition :\n",
    "        dec_outputs , h , c = dec_model.predict([ empty_target_seq ] + states_values )\n",
    "        sampled_word_index = np.argmax( dec_outputs[0, -1, :] )\n",
    "        sampled_word = None\n",
    "        for word , index in tokenizer.word_index.items() :\n",
    "            if sampled_word_index == index :\n",
    "                decoded_translation += ' {}'.format( word )\n",
    "                sampled_word = word\n",
    "        \n",
    "        if sampled_word == 'end' or len(decoded_translation.split()) > maxlen_answers:\n",
    "            stop_condition = True\n",
    "            \n",
    "        empty_target_seq = np.zeros( ( 1 , 1 ) )  \n",
    "        empty_target_seq[ 0 , 0 ] = sampled_word_index\n",
    "        states_values = [ h , c ] \n",
    "\n",
    "    print( decoded_translation )"
   ]
  }
 ],
 "metadata": {
  "kernelspec": {
   "display_name": "Python 3.9.15 ('tfgpu')",
   "language": "python",
   "name": "python3"
  },
  "language_info": {
   "codemirror_mode": {
    "name": "ipython",
    "version": 3
   },
   "file_extension": ".py",
   "mimetype": "text/x-python",
   "name": "python",
   "nbconvert_exporter": "python",
   "pygments_lexer": "ipython3",
   "version": "3.9.15"
  },
  "orig_nbformat": 4,
  "vscode": {
   "interpreter": {
    "hash": "04ee3065d2333376d0aa8ad1893b6f4d1e1600d75ce606d1ee7a0507ce07e97f"
   }
  }
 },
 "nbformat": 4,
 "nbformat_minor": 2
}
