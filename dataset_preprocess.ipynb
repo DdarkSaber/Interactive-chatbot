{
 "cells": [
  {
   "cell_type": "code",
   "execution_count": 2,
   "metadata": {},
   "outputs": [],
   "source": [
    "import numpy as np \n",
    "import tensorflow as tf\n",
    "import pickle\n",
    "from tensorflow.keras import  preprocessing, utils\n",
    "from tensorflow.keras.models import Sequential\n",
    "# from tensorflow.keras.layers.recurrent import LSTM,SimpleRNN\n",
    "import yaml\n",
    "import os\n",
    "import pandas as pd\n",
    "import yaml\n",
    "# from numba import jit, cuda\n",
    "import pickle\n",
    "from statistics import mode"
   ]
  },
  {
   "cell_type": "code",
   "execution_count": 3,
   "metadata": {},
   "outputs": [
    {
     "data": {
      "text/plain": [
       "(64636, 7)"
      ]
     },
     "execution_count": 3,
     "metadata": {},
     "output_type": "execute_result"
    }
   ],
   "source": [
    "emotion_emotion = pd.read_csv('dataset/emotion-emotion_69k.csv')\n",
    "emotion_emotion.head()\n",
    "emotion_emotion.shape"
   ]
  },
  {
   "cell_type": "code",
   "execution_count": 4,
   "metadata": {},
   "outputs": [],
   "source": [
    "category_names = ['sentimental','sad', 'afraid', 'proud', 'faithful', 'joyful', 'angry', 'annoyed', 'disgusted', 'anticipating', 'neutral', 'surprised']"
   ]
  },
  {
   "cell_type": "code",
   "execution_count": 5,
   "metadata": {},
   "outputs": [],
   "source": [
    "for i in category_names:\n",
    "    f = open('Models/'+i+\"_model.ipynb\", \"a\")\n",
    "    f.close()"
   ]
  },
  {
   "cell_type": "code",
   "execution_count": 12,
   "metadata": {},
   "outputs": [],
   "source": [
    "sentimental_qns = []\n",
    "sentimental_ans = []\n",
    "afraid_qns = []\n",
    "afraid_ans = []\n",
    "proud_qns = []\n",
    "proud_ans = []\n",
    "faithful_qns = []\n",
    "faithful_ans = []\n",
    "joyful_qns = []\n",
    "joyful_ans = []\n",
    "angry_qns = []\n",
    "angry_ans = []\n",
    "sad_qns = []\n",
    "sad_ans = []\n",
    "annoyed_qns = []\n",
    "annoyed_ans = []\n",
    "disgusted_qns = []\n",
    "disgusted_ans = []\n",
    "anticipating_qns = []\n",
    "anticipating_ans = []\n",
    "neutral_qns = []\n",
    "neutral_ans = []\n",
    "surprised_qns = []\n",
    "surprised_ans = []\n",
    "for emotion , question , answer in (list(zip(emotion_emotion['emotion'],emotion_emotion['empathetic_dialogues'],emotion_emotion['labels']))):\n",
    "    qn = question[10:-8]\n",
    "    temp = []\n",
    "    if len(qn) != 0 and len(answer) !=0:\n",
    "        if emotion== \"sentimental\":\n",
    "            sentimental_qns.append(qn)\n",
    "            sentimental_ans.append(answer)\n",
    "        if emotion== \"afraid\" or emotion== \"terrified\":\n",
    "            afraid_qns.append(qn)\n",
    "            afraid_ans.append(answer)\n",
    "        if emotion== \"proud\" or emotion == \"impressed\":\n",
    "            proud_qns.append(qn)\n",
    "            proud_ans.append(answer)\n",
    "        if emotion== \"faithful\" or emotion==\"trusting\" or emotion ==\"confident\" or emotion==\"grateful\" or emotion==\"hopeful\":\n",
    "            faithful_qns.append(qn)\n",
    "            faithful_ans.append(answer)\n",
    "        if emotion== \"joyful\":\n",
    "            joyful_qns.append(qn)\n",
    "            joyful_ans.append(answer)\n",
    "        if emotion== \"angry\" or emotion==\"furious\":\n",
    "            angry_qns.append(qn)\n",
    "            angry_ans.append(answer)\n",
    "        if emotion== \"sad\" or emotion ==\"devastated\" or emotion==\"disappointed\" or emotion==\"lonely\":\n",
    "            sad_qns.append(qn)\n",
    "            sad_ans.append(answer)\n",
    "        if emotion== \"annoyed\" or emotion==\"ashamed\"or emotion==\"embarrased\"or emotion==\"guilty\":\n",
    "            annoyed_qns.append(qn)\n",
    "            annoyed_ans.append(answer)\n",
    "        if emotion== \"disgusted\"or emotion==\"jealous\":\n",
    "            disgusted_qns.append(qn)\n",
    "            disgusted_ans.append(answer)\n",
    "        if emotion== \"anticipating\"or emotion==\"anxious\"or emotion==\"apprehensive\":\n",
    "            anticipating_qns.append(qn)\n",
    "            anticipating_ans.append(answer)\n",
    "        if emotion== \"neutral\"or emotion==\"content\"or emotion==\"prepared\"or emotion==\"nostalgic\":\n",
    "            neutral_qns.append(qn)\n",
    "            neutral_ans.append(answer)\n",
    "        if emotion== \"surprised\"or emotion==\"curious\"or emotion==\"excited\":\n",
    "            surprised_qns.append(qn)\n",
    "            surprised_ans.append(answer)\n",
    "        "
   ]
  },
  {
   "cell_type": "code",
   "execution_count": 13,
   "metadata": {},
   "outputs": [],
   "source": [
    "def preprocess(w):\n",
    "    questions = eval(w+\"_qns\")\n",
    "    answers = eval(w+\"_ans\")\n",
    "    answers_with_tags = list()\n",
    "    for i in range( len( answers ) ):\n",
    "        if type( answers[i] ) == str:\n",
    "            answers_with_tags.append( answers[i] )\n",
    "        else:\n",
    "            questions.pop( i )\n",
    "    answers = list()\n",
    "    for i in range( len( answers_with_tags ) ) :\n",
    "        answers.append( '<START> ' + answers_with_tags[i] + ' <END>' )\n",
    "\n",
    "    with open('processed_dataset/'+w +'.pickle','wb') as f:\n",
    "        pickle.dump([questions ,answers],f)\n",
    "    print(\"question :\" , len(questions) , \"answers:\" , len(answers))"
   ]
  },
  {
   "cell_type": "code",
   "execution_count": 14,
   "metadata": {},
   "outputs": [
    {
     "name": "stdout",
     "output_type": "stream",
     "text": [
      "sentimental : question : 1773 answers: 1773\n",
      "sad : question : 8144 answers: 8144\n",
      "afraid : question : 4168 answers: 4168\n",
      "proud : question : 4251 answers: 4251\n",
      "faithful : question : 9185 answers: 9185\n",
      "joyful : question : 1953 answers: 1953\n",
      "angry : question : 4341 answers: 4341\n",
      "annoyed : question : 5960 answers: 5960\n",
      "disgusted : question : 3999 answers: 3999\n",
      "anticipating : question : 5612 answers: 5612\n",
      "neutral : question : 5836 answers: 5836\n",
      "surprised : question : 5760 answers: 5760\n"
     ]
    }
   ],
   "source": [
    "for w in category_names:\n",
    "    print(w, end=\" : \")\n",
    "    preprocess(w)"
   ]
  },
  {
   "cell_type": "code",
   "execution_count": 7,
   "metadata": {},
   "outputs": [
    {
     "name": "stdout",
     "output_type": "stream",
     "text": [
      "68934 68934\n",
      "19205 19205\n",
      "207583 207583\n"
     ]
    }
   ],
   "source": [
    "# questions = list()\n",
    "# answers = list()\n",
    "# files_list =  os.listdir('dataset/Kaggledataset/')\n",
    "# for filepath in files_list:\n",
    "#     stream = open('dataset/Kaggledataset/' +filepath , 'rb')\n",
    "#     docs = yaml.safe_load(stream)\n",
    "#     conversations = docs['conversations']\n",
    "#     for con in conversations:\n",
    "#         if len( con ) > 2 :\n",
    "#             questions.append(con[0])\n",
    "#             replies = con[ 1 : ]\n",
    "#             ans = ''\n",
    "#             for rep in replies:\n",
    "#                 ans += ' ' + rep\n",
    "#             answers.append( ans )\n",
    "#         elif len( con )> 1:\n",
    "#             questions.append(con[0])\n",
    "#             answers.append(con[1])\n",
    "# # questions = list()\n",
    "# # answers = list()\n",
    "# # data_path = 'dataset/human_chat.txt'\n",
    "# # with open(data_path, encoding='utf8') as file:\n",
    "# #     for i , line in enumerate(file):\n",
    "# #         try:\n",
    "# #             if line[6] == '1':\n",
    "# #                 questions.append(line[9:])\n",
    "# #                 # questions1.append(line[8:])\n",
    "# #             else:\n",
    "# #                 answers.append(line[9:])\n",
    "# #                 # answers1.append(line[8:])\n",
    "# #         except:\n",
    "# #             print(\"error at line :\" , i)\n",
    "        \n",
    "# #         # print(i , len(questions) , len(answers))\n",
    "\n",
    "# data_path = 'dataset/dialogs.txt'\n",
    "# # questions = list()\n",
    "# # answers = list()\n",
    "# with open(data_path, encoding='utf8') as file:\n",
    "#     for i , line in enumerate(file):\n",
    "#         q , a =line.split('\\t')\n",
    "#         questions.append(q)\n",
    "#         answers.append(a)\n",
    "# topicat_chat  = pd.read_csv('dataset/topical_chat.csv')\n",
    "# topicat_chat.head()\n",
    "# topicat_chat.sentiment.unique()\n",
    "# mental_health = pd.read_csv('dataset/Mental_Health_FAQ.csv')\n",
    "# mental_health.head()\n",
    "# data = list(zip(mental_health.Questions, mental_health.Answers))\n",
    "# for i in data:\n",
    "#     questions.append(i[0])\n",
    "#     answers.append(i[1])\n",
    "# del data\n",
    "# del mental_health\n",
    "# emotion_emotion = pd.read_csv('dataset/emotion-emotion_69k.csv')\n",
    "# emotion_emotion.head()\n",
    "# emotion_emotion.emotion.unique()\n",
    "# for i in range(len(emotion_emotion['empathetic_dialogues'])):\n",
    "#     qn = emotion_emotion['empathetic_dialogues'][i][10:-9]\n",
    "#     if len(qn) != 0 and len(emotion_emotion['labels'][i]) !=0:\n",
    "#         questions.append(qn)\n",
    "#         answers.append(emotion_emotion['labels'][i])\n",
    "# print(len(questions) , len(answers))\n",
    "# line  = list()\n",
    "# emotion = list()\n",
    "# for i in range(len(emotion_emotion['Situation'])):\n",
    "#     situation = emotion_emotion['Situation'][i]\n",
    "#     if situation not in line:\n",
    "#         line.append(str(situation))\n",
    "#         emotion.append(str(emotion_emotion['emotion']))\n",
    "# print(len(line) , len(emotion))\n",
    "# for i in range(len(topicat_chat['message'])):     \n",
    "#     line.append(topicat_chat['message'][i])\n",
    "#     emotion.append(topicat_chat['sentiment'][i])\n",
    "# print(len(line) , len(emotion))"
   ]
  }
 ],
 "metadata": {
  "kernelspec": {
   "display_name": "Python 3.9.15 ('tfgpu')",
   "language": "python",
   "name": "python3"
  },
  "language_info": {
   "codemirror_mode": {
    "name": "ipython",
    "version": 3
   },
   "file_extension": ".py",
   "mimetype": "text/x-python",
   "name": "python",
   "nbconvert_exporter": "python",
   "pygments_lexer": "ipython3",
   "version": "3.9.15"
  },
  "orig_nbformat": 4,
  "vscode": {
   "interpreter": {
    "hash": "04ee3065d2333376d0aa8ad1893b6f4d1e1600d75ce606d1ee7a0507ce07e97f"
   }
  }
 },
 "nbformat": 4,
 "nbformat_minor": 2
}
